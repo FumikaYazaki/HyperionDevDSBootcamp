{
 "cells": [
  {
   "cell_type": "code",
   "execution_count": 2,
   "metadata": {
    "id": "h0LVvvnfJsg5"
   },
   "outputs": [],
   "source": [
    "# Import pandas\n",
    "import pandas as pd"
   ]
  },
  {
   "cell_type": "code",
   "execution_count": 6,
   "metadata": {
    "id": "rv2oLRnPK36J"
   },
   "outputs": [
    {
     "name": "stdout",
     "output_type": "stream",
     "text": [
      "       Balance   Income  Limit  Rating  Cards  Age  Education  Gender Student   \n",
      "0    12.240798   14.891   3606     283      2   34         11    Male      No  \\\n",
      "1    23.283334  106.025   6645     483      3   82         15  Female     Yes   \n",
      "2    22.530409  104.593   7075     514      4   71         11    Male      No   \n",
      "3    27.652811  148.924   9504     681      3   36         11  Female      No   \n",
      "4    16.893978   55.882   4897     357      2   68         16    Male      No   \n",
      "..         ...      ...    ...     ...    ...  ...        ...     ...     ...   \n",
      "395   8.764984   12.096   4100     307      3   32         13    Male      No   \n",
      "396   9.943838   13.364   3838     296      5   65         17    Male      No   \n",
      "397  14.882078   57.872   4171     321      5   67         12  Female      No   \n",
      "398  12.001071   37.728   2525     192      1   44         13    Male      No   \n",
      "399  10.159598   18.701   5524     415      5   64          7  Female      No   \n",
      "\n",
      "    Married         Ethnicity  \n",
      "0       Yes         Caucasian  \n",
      "1       Yes             Asian  \n",
      "2        No             Asian  \n",
      "3        No             Asian  \n",
      "4       Yes         Caucasian  \n",
      "..      ...               ...  \n",
      "395     Yes         Caucasian  \n",
      "396      No  African American  \n",
      "397     Yes         Caucasian  \n",
      "398     Yes         Caucasian  \n",
      "399      No             Asian  \n",
      "\n",
      "[400 rows x 11 columns]\n"
     ]
    }
   ],
   "source": [
    "# Create a DataFrame with balance.txt\n",
    "df = pd.read_csv('balance.txt', delim_whitespace=True)\n",
    "print(df)"
   ]
  },
  {
   "cell_type": "markdown",
   "metadata": {
    "id": "_LXpBJXZLYoh"
   },
   "source": [
    "Write the code needed to produce a report that provides the following information:\n",
    "* Compare the average income based on ethnicity. \n",
    "* On average, do married or single people have a higher balance?\n",
    "* What is the highest income in our dataset?\n",
    "* What is the lowest income in our dataset?\n",
    "* How many cards do we have recorded in our dataset? (Hint: use `sum()`)\n",
    "* How many females do we have information for vs how many males? (Hint: use `count()`For a list of all methods for computation of descriptive stats, explore the [pandas documentation](https://pandas.pydata.org/pandas-docs/stable/reference/frame.html#computations-descriptive-stats)). \n",
    "\n",
    "\n"
   ]
  },
  {
   "cell_type": "code",
   "execution_count": 10,
   "metadata": {},
   "outputs": [
    {
     "name": "stdout",
     "output_type": "stream",
     "text": [
      "                    Balance     Income        Limit      Rating     Cards   \n",
      "Ethnicity                                                                   \n",
      "African American  13.801402  47.682101  4881.595960  365.070707  2.959596  \\\n",
      "Asian             13.293681  44.187833  4607.823529  345.431373  2.970588   \n",
      "Caucasian         13.313445  44.521945  4728.462312  354.773869  2.949749   \n",
      "\n",
      "                        Age  Education  \n",
      "Ethnicity                               \n",
      "African American  57.505051  13.525253  \n",
      "Asian             53.911765  13.607843  \n",
      "Caucasian         55.653266  13.331658  \n"
     ]
    }
   ],
   "source": [
    "#Compare the average income based on ethnicity.\n",
    "print(df.groupby([\"Ethnicity\"]).mean(numeric_only=True))"
   ]
  },
  {
   "cell_type": "code",
   "execution_count": 18,
   "metadata": {},
   "outputs": [
    {
     "name": "stdout",
     "output_type": "stream",
     "text": [
      "The average of balance of married people is 13.388473477498913\n",
      "The average of balance of single people is 13.493509015134242\n",
      "Single people have a higher balance.\n"
     ]
    }
   ],
   "source": [
    "#On average, do married or single people have a higher balance?\n",
    "married_balance = df[df.Married==\"Yes\"].loc[:,\"Balance\"].mean()\n",
    "single_balance = df[df.Married==\"No\"].loc[:,\"Balance\"].mean()\n",
    "\n",
    "print(\"The average of balance of married people is\", married_balance)\n",
    "print(\"The average of balance of single people is\", single_balance)\n",
    "if married_balance > single_balance:\n",
    "    print(\"Married people have a higher balance.\")\n",
    "else:\n",
    "    print(\"Single people have a higher balance.\")"
   ]
  },
  {
   "cell_type": "code",
   "execution_count": 20,
   "metadata": {},
   "outputs": [
    {
     "name": "stdout",
     "output_type": "stream",
     "text": [
      "The highest income in our dataset is 186.634\n"
     ]
    }
   ],
   "source": [
    "#What is the highest income in our dataset?\n",
    "print(\"The highest income in our dataset is\", df.loc[:,\"Income\"].max())"
   ]
  },
  {
   "cell_type": "code",
   "execution_count": 23,
   "metadata": {},
   "outputs": [
    {
     "name": "stdout",
     "output_type": "stream",
     "text": [
      "The lowest income in our dataset is 10.354\n"
     ]
    }
   ],
   "source": [
    "#What is the lowest income in our dataset?\n",
    "print(\"The lowest income in our dataset is\", df.loc[:,\"Income\"].min())"
   ]
  },
  {
   "cell_type": "code",
   "execution_count": 24,
   "metadata": {},
   "outputs": [
    {
     "name": "stdout",
     "output_type": "stream",
     "text": [
      "Total numbers of cards recorded in our dataset is 1183\n"
     ]
    }
   ],
   "source": [
    "#How many cards do we have recorded in our dataset?\n",
    "print(\"Total numbers of cards recorded in our dataset is\", df.loc[:,\"Cards\"].sum())"
   ]
  },
  {
   "cell_type": "code",
   "execution_count": 29,
   "metadata": {},
   "outputs": [
    {
     "name": "stdout",
     "output_type": "stream",
     "text": [
      "We have 207 of female information and 193 of male information\n"
     ]
    }
   ],
   "source": [
    "#How many females do we have information for vs how many males?\n",
    "print(\"We have\", df[df.Gender==\"Female\"].loc[:,\"Gender\"].count(), \"of female information and\", df[df.Gender==\"Male\"].loc[:,\"Gender\"].count(), \"of male information.\")"
   ]
  },
  {
   "cell_type": "code",
   "execution_count": null,
   "metadata": {},
   "outputs": [],
   "source": []
  }
 ],
 "metadata": {
  "colab": {
   "authorship_tag": "ABX9TyP5J3xG1JXUCQAkP9OLQqdU",
   "provenance": []
  },
  "kernelspec": {
   "display_name": "Python 3 (ipykernel)",
   "language": "python",
   "name": "python3"
  },
  "language_info": {
   "codemirror_mode": {
    "name": "ipython",
    "version": 3
   },
   "file_extension": ".py",
   "mimetype": "text/x-python",
   "name": "python",
   "nbconvert_exporter": "python",
   "pygments_lexer": "ipython3",
   "version": "3.11.2"
  }
 },
 "nbformat": 4,
 "nbformat_minor": 1
}
